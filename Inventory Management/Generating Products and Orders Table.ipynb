{
 "cells": [
  {
   "cell_type": "code",
   "execution_count": 2,
   "metadata": {},
   "outputs": [],
   "source": [
    "import pandas as pd"
   ]
  },
  {
   "cell_type": "code",
   "execution_count": 3,
   "metadata": {},
   "outputs": [],
   "source": [
    "df = pd.read_csv(\"DataCoSupplyChainDataset.csv\", encoding_errors = 'ignore')"
   ]
  },
  {
   "cell_type": "markdown",
   "metadata": {},
   "source": [
    "Products Table"
   ]
  },
  {
   "cell_type": "code",
   "execution_count": 7,
   "metadata": {},
   "outputs": [],
   "source": [
    "products = df[['Product Card Id', 'Category Name', 'Product Name', 'Product Price']]\n",
    "products = products.drop_duplicates()\n",
    "products.isna().sum() # no missing values\n",
    "products.rename(columns = {\"Product Card Id\": \"Product ID\",\n",
    "                           \"Category Name\": \"Category\"}, inplace = True)\n",
    "products.reset_index(inplace = True, drop = True)\n",
    "\n",
    "products.to_csv(\"Product Table.csv\")"
   ]
  },
  {
   "cell_type": "markdown",
   "metadata": {},
   "source": [
    "Orders Table"
   ]
  },
  {
   "cell_type": "code",
   "execution_count": 8,
   "metadata": {},
   "outputs": [],
   "source": [
    "orders = df[['Order Id', 'Product Card Id', 'order date (DateOrders)', 'shipping date (DateOrders)', 'Days for shipping (real)', 'Days for shipment (scheduled)', 'Late_delivery_risk', 'Shipping Mode', 'Order Item Discount Rate']]\n",
    "\n",
    "orders = orders.drop_duplicates()\n",
    "orders.isna().sum() # no missing values\n",
    "orders.rename(columns = {\"Order Id\": \"Order ID\",\n",
    "                         \"Product Card Id\": \"Product ID\",\n",
    "                         \"order date (DateOrders)\": \"Order Date\",\n",
    "                         \"shipping date (DateOrders)\": \"Shipping Date\",\n",
    "                         \"Days for shipping (real)\": \"Actual days for shipping\",\n",
    "                         \"Days for shipment (scheduled)\": \"Scheduled days for shipping\",\n",
    "                         \"Late_delivery_risk\": \"Late Delivery Risk\",\n",
    "                         \"Order Item Discount Rate\": \"Discount Percentage\"}, inplace = True)\n",
    "orders.reset_index(inplace = True, drop = True)\n",
    "\n",
    "orders.to_csv(\"Orders Table.csv\")"
   ]
  }
 ],
 "metadata": {
  "kernelspec": {
   "display_name": "Python 3",
   "language": "python",
   "name": "python3"
  },
  "language_info": {
   "codemirror_mode": {
    "name": "ipython",
    "version": 3
   },
   "file_extension": ".py",
   "mimetype": "text/x-python",
   "name": "python",
   "nbconvert_exporter": "python",
   "pygments_lexer": "ipython3",
   "version": "3.10.6"
  }
 },
 "nbformat": 4,
 "nbformat_minor": 2
}
