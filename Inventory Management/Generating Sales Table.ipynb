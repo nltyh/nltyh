{
 "cells": [
  {
   "cell_type": "code",
   "execution_count": 7,
   "metadata": {},
   "outputs": [],
   "source": [
    "import pandas as pd\n",
    "import numpy as np"
   ]
  },
  {
   "cell_type": "code",
   "execution_count": 8,
   "metadata": {},
   "outputs": [],
   "source": [
    "df = pd.read_csv(\"Retail inventory.csv\")"
   ]
  },
  {
   "cell_type": "code",
   "execution_count": 9,
   "metadata": {},
   "outputs": [],
   "source": [
    "sales = df[['Date', 'Weekly_Sales']]\n",
    "sales = sales.rename(columns = {\"Weekly_Sales\": \"Number of units sold per week\"})\n",
    "sales['Promotional Period'] = np.random.choice([True, False], size = len(sales)) # generating data for Promotional Period\n",
    "\n",
    "products = pd.read_csv(\"Product Table.csv\")\n",
    "\n",
    "# sampling product id, adding column to sales table\n",
    "sales[\"Product ID\"] = products[\"Product ID\"].sample(n = len(sales), replace = True).reset_index(drop = True) \n",
    "\n",
    "sales.duplicated(subset = [\"Date\", \"Product ID\"]).sum() # 5 duplicates for (Date, Product ID)\n",
    "sales.drop_duplicates(subset = [\"Date\", \"Product ID\"], inplace = True) # drop duplicated (Date, Product ID) to ensure primary key\n",
    "sales.isna().sum() # no missing values\n",
    "\n",
    "sales.to_csv(\"Sales Table.csv\")"
   ]
  }
 ],
 "metadata": {
  "kernelspec": {
   "display_name": "Python 3",
   "language": "python",
   "name": "python3"
  },
  "language_info": {
   "codemirror_mode": {
    "name": "ipython",
    "version": 3
   },
   "file_extension": ".py",
   "mimetype": "text/x-python",
   "name": "python",
   "nbconvert_exporter": "python",
   "pygments_lexer": "ipython3",
   "version": "3.10.6"
  }
 },
 "nbformat": 4,
 "nbformat_minor": 2
}
